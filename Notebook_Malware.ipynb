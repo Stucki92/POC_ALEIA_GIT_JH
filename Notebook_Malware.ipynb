{
 "cells": [
  {
   "cell_type": "code",
   "execution_count": 1,
   "id": "8347a82f-5a1f-4ae5-be98-bff07418d229",
   "metadata": {},
   "outputs": [],
   "source": [
    "import pandas as pd\n",
    "import numpy as np\n",
    "import seaborn as sns\n",
    "from matplotlib import pyplot\n",
    "import Levenshtein as leven\n",
    "from random import randint"
   ]
  },
  {
   "cell_type": "markdown",
   "id": "58fa3781-2e78-45ab-9181-5a73e88f7ec0",
   "metadata": {},
   "source": [
    "# Explore"
   ]
  },
  {
   "cell_type": "code",
   "execution_count": 2,
   "id": "064c59df-d03c-4c8c-9b2e-0d2f030ca2b9",
   "metadata": {},
   "outputs": [
    {
     "data": {
      "text/plain": [
       "21"
      ]
     },
     "execution_count": 2,
     "metadata": {},
     "output_type": "execute_result"
    }
   ],
   "source": [
    "leven.distance('http://54.94.157.240/petart/avaron.exe', 'http://198.12.81.125/ugc/vbc.exe')"
   ]
  },
  {
   "cell_type": "code",
   "execution_count": 3,
   "id": "1aa0e276-73bf-4d23-87ba-67e8ea5bfc54",
   "metadata": {},
   "outputs": [],
   "source": [
    "dataframe = pd.read_csv('../Documents/BD/Log.csv', header = 8)"
   ]
  },
  {
   "cell_type": "code",
   "execution_count": 4,
   "id": "70951309-d0f4-444e-a140-d1643fc2de5a",
   "metadata": {},
   "outputs": [
    {
     "data": {
      "text/html": [
       "<div>\n",
       "<style scoped>\n",
       "    .dataframe tbody tr th:only-of-type {\n",
       "        vertical-align: middle;\n",
       "    }\n",
       "\n",
       "    .dataframe tbody tr th {\n",
       "        vertical-align: top;\n",
       "    }\n",
       "\n",
       "    .dataframe thead th {\n",
       "        text-align: right;\n",
       "    }\n",
       "</style>\n",
       "<table border=\"1\" class=\"dataframe\">\n",
       "  <thead>\n",
       "    <tr style=\"text-align: right;\">\n",
       "      <th></th>\n",
       "      <th># id</th>\n",
       "      <th>dateadded</th>\n",
       "      <th>url</th>\n",
       "      <th>url_status</th>\n",
       "      <th>threat</th>\n",
       "      <th>tags</th>\n",
       "      <th>urlhaus_link</th>\n",
       "      <th>reporter</th>\n",
       "    </tr>\n",
       "  </thead>\n",
       "  <tbody>\n",
       "    <tr>\n",
       "      <th>0</th>\n",
       "      <td>1468582</td>\n",
       "      <td>2021-07-20 12:55:03</td>\n",
       "      <td>http://makeownpharma.com/prof--ruthe-cremin/Li...</td>\n",
       "      <td>offline</td>\n",
       "      <td>malware_download</td>\n",
       "      <td>html,Qakbot,qbot,SilentBuilder,TR,zip</td>\n",
       "      <td>https://urlhaus.abuse.ch/url/1468582/</td>\n",
       "      <td>Cryptolaemus1</td>\n",
       "    </tr>\n",
       "    <tr>\n",
       "      <th>1</th>\n",
       "      <td>1468583</td>\n",
       "      <td>2021-07-20 12:55:03</td>\n",
       "      <td>http://bellatti-barton.com/dr--amy-kuphal/Oliv...</td>\n",
       "      <td>offline</td>\n",
       "      <td>malware_download</td>\n",
       "      <td>html,Qakbot,qbot,SilentBuilder,TR,zip</td>\n",
       "      <td>https://urlhaus.abuse.ch/url/1468583/</td>\n",
       "      <td>Cryptolaemus1</td>\n",
       "    </tr>\n",
       "    <tr>\n",
       "      <th>2</th>\n",
       "      <td>1468581</td>\n",
       "      <td>2021-07-20 12:53:06</td>\n",
       "      <td>http://54.94.157.240/petart/avaron.exe</td>\n",
       "      <td>online</td>\n",
       "      <td>malware_download</td>\n",
       "      <td>exe,Loki,opendir</td>\n",
       "      <td>https://urlhaus.abuse.ch/url/1468581/</td>\n",
       "      <td>abuse_ch</td>\n",
       "    </tr>\n",
       "    <tr>\n",
       "      <th>3</th>\n",
       "      <td>1468580</td>\n",
       "      <td>2021-07-20 12:53:04</td>\n",
       "      <td>http://198.12.81.125/ugc/vbc.exe</td>\n",
       "      <td>online</td>\n",
       "      <td>malware_download</td>\n",
       "      <td>AgentTesla,exe</td>\n",
       "      <td>https://urlhaus.abuse.ch/url/1468580/</td>\n",
       "      <td>abuse_ch</td>\n",
       "    </tr>\n",
       "    <tr>\n",
       "      <th>4</th>\n",
       "      <td>1468578</td>\n",
       "      <td>2021-07-20 12:52:12</td>\n",
       "      <td>http://59.96.31.207:34561/Mozi.m</td>\n",
       "      <td>online</td>\n",
       "      <td>malware_download</td>\n",
       "      <td>elf,Mozi</td>\n",
       "      <td>https://urlhaus.abuse.ch/url/1468578/</td>\n",
       "      <td>lrz_urlhaus</td>\n",
       "    </tr>\n",
       "  </tbody>\n",
       "</table>\n",
       "</div>"
      ],
      "text/plain": [
       "      # id            dateadded  \\\n",
       "0  1468582  2021-07-20 12:55:03   \n",
       "1  1468583  2021-07-20 12:55:03   \n",
       "2  1468581  2021-07-20 12:53:06   \n",
       "3  1468580  2021-07-20 12:53:04   \n",
       "4  1468578  2021-07-20 12:52:12   \n",
       "\n",
       "                                                 url url_status  \\\n",
       "0  http://makeownpharma.com/prof--ruthe-cremin/Li...    offline   \n",
       "1  http://bellatti-barton.com/dr--amy-kuphal/Oliv...    offline   \n",
       "2             http://54.94.157.240/petart/avaron.exe     online   \n",
       "3                   http://198.12.81.125/ugc/vbc.exe     online   \n",
       "4                   http://59.96.31.207:34561/Mozi.m     online   \n",
       "\n",
       "             threat                                   tags  \\\n",
       "0  malware_download  html,Qakbot,qbot,SilentBuilder,TR,zip   \n",
       "1  malware_download  html,Qakbot,qbot,SilentBuilder,TR,zip   \n",
       "2  malware_download                       exe,Loki,opendir   \n",
       "3  malware_download                         AgentTesla,exe   \n",
       "4  malware_download                               elf,Mozi   \n",
       "\n",
       "                            urlhaus_link       reporter  \n",
       "0  https://urlhaus.abuse.ch/url/1468582/  Cryptolaemus1  \n",
       "1  https://urlhaus.abuse.ch/url/1468583/  Cryptolaemus1  \n",
       "2  https://urlhaus.abuse.ch/url/1468581/       abuse_ch  \n",
       "3  https://urlhaus.abuse.ch/url/1468580/       abuse_ch  \n",
       "4  https://urlhaus.abuse.ch/url/1468578/    lrz_urlhaus  "
      ]
     },
     "execution_count": 4,
     "metadata": {},
     "output_type": "execute_result"
    }
   ],
   "source": [
    "dataframe.head()"
   ]
  },
  {
   "cell_type": "code",
   "execution_count": 5,
   "id": "8d86bdd5-7263-4599-ba64-06e8104d713b",
   "metadata": {},
   "outputs": [],
   "source": [
    "#Ajout comment\n",
    "dataframe['dateadded'] = pd.to_datetime(dataframe['dateadded'])"
   ]
  },
  {
   "cell_type": "code",
   "execution_count": 6,
   "id": "4372e906-359a-4f40-b497-609263d3c763",
   "metadata": {},
   "outputs": [
    {
     "name": "stderr",
     "output_type": "stream",
     "text": [
      "/home/stucki/.local/lib/python3.7/site-packages/ipykernel_launcher.py:1: FutureWarning: Treating datetime data as categorical rather than numeric in `.describe` is deprecated and will be removed in a future version of pandas. Specify `datetime_is_numeric=True` to silence this warning and adopt the future behavior now.\n",
      "  \"\"\"Entry point for launching an IPython kernel.\n"
     ]
    },
    {
     "data": {
      "text/html": [
       "<div>\n",
       "<style scoped>\n",
       "    .dataframe tbody tr th:only-of-type {\n",
       "        vertical-align: middle;\n",
       "    }\n",
       "\n",
       "    .dataframe tbody tr th {\n",
       "        vertical-align: top;\n",
       "    }\n",
       "\n",
       "    .dataframe thead th {\n",
       "        text-align: right;\n",
       "    }\n",
       "</style>\n",
       "<table border=\"1\" class=\"dataframe\">\n",
       "  <thead>\n",
       "    <tr style=\"text-align: right;\">\n",
       "      <th></th>\n",
       "      <th># id</th>\n",
       "      <th>dateadded</th>\n",
       "      <th>url</th>\n",
       "      <th>url_status</th>\n",
       "      <th>threat</th>\n",
       "      <th>tags</th>\n",
       "      <th>urlhaus_link</th>\n",
       "      <th>reporter</th>\n",
       "    </tr>\n",
       "  </thead>\n",
       "  <tbody>\n",
       "    <tr>\n",
       "      <th>count</th>\n",
       "      <td>8.749800e+04</td>\n",
       "      <td>87498</td>\n",
       "      <td>87498</td>\n",
       "      <td>87498</td>\n",
       "      <td>87498</td>\n",
       "      <td>87498</td>\n",
       "      <td>87498</td>\n",
       "      <td>87498</td>\n",
       "    </tr>\n",
       "    <tr>\n",
       "      <th>unique</th>\n",
       "      <td>NaN</td>\n",
       "      <td>64687</td>\n",
       "      <td>87498</td>\n",
       "      <td>2</td>\n",
       "      <td>1</td>\n",
       "      <td>339</td>\n",
       "      <td>87498</td>\n",
       "      <td>48</td>\n",
       "    </tr>\n",
       "    <tr>\n",
       "      <th>top</th>\n",
       "      <td>NaN</td>\n",
       "      <td>2021-07-15 16:04:04</td>\n",
       "      <td>http://makeownpharma.com/prof--ruthe-cremin/Li...</td>\n",
       "      <td>offline</td>\n",
       "      <td>malware_download</td>\n",
       "      <td>elf,Mozi</td>\n",
       "      <td>https://urlhaus.abuse.ch/url/1468582/</td>\n",
       "      <td>lrz_urlhaus</td>\n",
       "    </tr>\n",
       "    <tr>\n",
       "      <th>freq</th>\n",
       "      <td>NaN</td>\n",
       "      <td>10</td>\n",
       "      <td>1</td>\n",
       "      <td>81333</td>\n",
       "      <td>87498</td>\n",
       "      <td>61931</td>\n",
       "      <td>1</td>\n",
       "      <td>60974</td>\n",
       "    </tr>\n",
       "    <tr>\n",
       "      <th>first</th>\n",
       "      <td>NaN</td>\n",
       "      <td>2021-06-20 00:00:05</td>\n",
       "      <td>NaN</td>\n",
       "      <td>NaN</td>\n",
       "      <td>NaN</td>\n",
       "      <td>NaN</td>\n",
       "      <td>NaN</td>\n",
       "      <td>NaN</td>\n",
       "    </tr>\n",
       "    <tr>\n",
       "      <th>last</th>\n",
       "      <td>NaN</td>\n",
       "      <td>2021-07-20 12:55:03</td>\n",
       "      <td>NaN</td>\n",
       "      <td>NaN</td>\n",
       "      <td>NaN</td>\n",
       "      <td>NaN</td>\n",
       "      <td>NaN</td>\n",
       "      <td>NaN</td>\n",
       "    </tr>\n",
       "    <tr>\n",
       "      <th>mean</th>\n",
       "      <td>1.424787e+06</td>\n",
       "      <td>NaN</td>\n",
       "      <td>NaN</td>\n",
       "      <td>NaN</td>\n",
       "      <td>NaN</td>\n",
       "      <td>NaN</td>\n",
       "      <td>NaN</td>\n",
       "      <td>NaN</td>\n",
       "    </tr>\n",
       "    <tr>\n",
       "      <th>std</th>\n",
       "      <td>2.532055e+04</td>\n",
       "      <td>NaN</td>\n",
       "      <td>NaN</td>\n",
       "      <td>NaN</td>\n",
       "      <td>NaN</td>\n",
       "      <td>NaN</td>\n",
       "      <td>NaN</td>\n",
       "      <td>NaN</td>\n",
       "    </tr>\n",
       "    <tr>\n",
       "      <th>min</th>\n",
       "      <td>1.380810e+06</td>\n",
       "      <td>NaN</td>\n",
       "      <td>NaN</td>\n",
       "      <td>NaN</td>\n",
       "      <td>NaN</td>\n",
       "      <td>NaN</td>\n",
       "      <td>NaN</td>\n",
       "      <td>NaN</td>\n",
       "    </tr>\n",
       "    <tr>\n",
       "      <th>25%</th>\n",
       "      <td>1.402941e+06</td>\n",
       "      <td>NaN</td>\n",
       "      <td>NaN</td>\n",
       "      <td>NaN</td>\n",
       "      <td>NaN</td>\n",
       "      <td>NaN</td>\n",
       "      <td>NaN</td>\n",
       "      <td>NaN</td>\n",
       "    </tr>\n",
       "    <tr>\n",
       "      <th>50%</th>\n",
       "      <td>1.424824e+06</td>\n",
       "      <td>NaN</td>\n",
       "      <td>NaN</td>\n",
       "      <td>NaN</td>\n",
       "      <td>NaN</td>\n",
       "      <td>NaN</td>\n",
       "      <td>NaN</td>\n",
       "      <td>NaN</td>\n",
       "    </tr>\n",
       "    <tr>\n",
       "      <th>75%</th>\n",
       "      <td>1.446705e+06</td>\n",
       "      <td>NaN</td>\n",
       "      <td>NaN</td>\n",
       "      <td>NaN</td>\n",
       "      <td>NaN</td>\n",
       "      <td>NaN</td>\n",
       "      <td>NaN</td>\n",
       "      <td>NaN</td>\n",
       "    </tr>\n",
       "    <tr>\n",
       "      <th>max</th>\n",
       "      <td>1.468583e+06</td>\n",
       "      <td>NaN</td>\n",
       "      <td>NaN</td>\n",
       "      <td>NaN</td>\n",
       "      <td>NaN</td>\n",
       "      <td>NaN</td>\n",
       "      <td>NaN</td>\n",
       "      <td>NaN</td>\n",
       "    </tr>\n",
       "  </tbody>\n",
       "</table>\n",
       "</div>"
      ],
      "text/plain": [
       "                # id            dateadded  \\\n",
       "count   8.749800e+04                87498   \n",
       "unique           NaN                64687   \n",
       "top              NaN  2021-07-15 16:04:04   \n",
       "freq             NaN                   10   \n",
       "first            NaN  2021-06-20 00:00:05   \n",
       "last             NaN  2021-07-20 12:55:03   \n",
       "mean    1.424787e+06                  NaN   \n",
       "std     2.532055e+04                  NaN   \n",
       "min     1.380810e+06                  NaN   \n",
       "25%     1.402941e+06                  NaN   \n",
       "50%     1.424824e+06                  NaN   \n",
       "75%     1.446705e+06                  NaN   \n",
       "max     1.468583e+06                  NaN   \n",
       "\n",
       "                                                      url url_status  \\\n",
       "count                                               87498      87498   \n",
       "unique                                              87498          2   \n",
       "top     http://makeownpharma.com/prof--ruthe-cremin/Li...    offline   \n",
       "freq                                                    1      81333   \n",
       "first                                                 NaN        NaN   \n",
       "last                                                  NaN        NaN   \n",
       "mean                                                  NaN        NaN   \n",
       "std                                                   NaN        NaN   \n",
       "min                                                   NaN        NaN   \n",
       "25%                                                   NaN        NaN   \n",
       "50%                                                   NaN        NaN   \n",
       "75%                                                   NaN        NaN   \n",
       "max                                                   NaN        NaN   \n",
       "\n",
       "                  threat      tags                           urlhaus_link  \\\n",
       "count              87498     87498                                  87498   \n",
       "unique                 1       339                                  87498   \n",
       "top     malware_download  elf,Mozi  https://urlhaus.abuse.ch/url/1468582/   \n",
       "freq               87498     61931                                      1   \n",
       "first                NaN       NaN                                    NaN   \n",
       "last                 NaN       NaN                                    NaN   \n",
       "mean                 NaN       NaN                                    NaN   \n",
       "std                  NaN       NaN                                    NaN   \n",
       "min                  NaN       NaN                                    NaN   \n",
       "25%                  NaN       NaN                                    NaN   \n",
       "50%                  NaN       NaN                                    NaN   \n",
       "75%                  NaN       NaN                                    NaN   \n",
       "max                  NaN       NaN                                    NaN   \n",
       "\n",
       "           reporter  \n",
       "count         87498  \n",
       "unique           48  \n",
       "top     lrz_urlhaus  \n",
       "freq          60974  \n",
       "first           NaN  \n",
       "last            NaN  \n",
       "mean            NaN  \n",
       "std             NaN  \n",
       "min             NaN  \n",
       "25%             NaN  \n",
       "50%             NaN  \n",
       "75%             NaN  \n",
       "max             NaN  "
      ]
     },
     "execution_count": 6,
     "metadata": {},
     "output_type": "execute_result"
    }
   ],
   "source": [
    "dataframe.describe(include='all')"
   ]
  },
  {
   "cell_type": "code",
   "execution_count": 7,
   "id": "b3af1034-b4a6-486a-8a5a-9e6c64be46b2",
   "metadata": {},
   "outputs": [
    {
     "data": {
      "text/plain": [
       "<AxesSubplot:xlabel='dateadded', ylabel='count'>"
      ]
     },
     "execution_count": 7,
     "metadata": {},
     "output_type": "execute_result"
    },
    {
     "data": {
      "image/png": "[encoded data removed]",
      "text/plain": [
       "<Figure size 842.4x595.44 with 1 Axes>"
      ]
     },
     "metadata": {
      "needs_background": "light"
     },
     "output_type": "display_data"
    }
   ],
   "source": [
    "df_ts = dataframe.groupby([pd.Grouper(key='dateadded',freq='H')]).size().reset_index(name='count')\n",
    "\n",
    "a4_dims = (11.7, 8.27)\n",
    "fig, ax = pyplot.subplots(figsize=a4_dims)\n",
    "sns.lineplot(ax=ax, data=df_ts, x=\"dateadded\", y=\"count\")"
   ]
  },
  {
   "cell_type": "code",
   "execution_count": 8,
   "id": "bdf03af5-9e05-463b-b3bd-66ea11e0d96d",
   "metadata": {},
   "outputs": [
    {
     "data": {
      "text/plain": [
       "119.36971350613915"
      ]
     },
     "execution_count": 8,
     "metadata": {},
     "output_type": "execute_result"
    }
   ],
   "source": [
    "df_ts['count'].mean()"
   ]
  },
  {
   "cell_type": "code",
   "execution_count": 9,
   "id": "fd52fbcc-70db-4ef2-840f-1fd2183f4391",
   "metadata": {},
   "outputs": [
    {
     "data": {
      "text/html": [
       "<div>\n",
       "<style scoped>\n",
       "    .dataframe tbody tr th:only-of-type {\n",
       "        vertical-align: middle;\n",
       "    }\n",
       "\n",
       "    .dataframe tbody tr th {\n",
       "        vertical-align: top;\n",
       "    }\n",
       "\n",
       "    .dataframe thead th {\n",
       "        text-align: right;\n",
       "    }\n",
       "</style>\n",
       "<table border=\"1\" class=\"dataframe\">\n",
       "  <thead>\n",
       "    <tr style=\"text-align: right;\">\n",
       "      <th></th>\n",
       "      <th>dateadded</th>\n",
       "      <th>count</th>\n",
       "    </tr>\n",
       "  </thead>\n",
       "  <tbody>\n",
       "    <tr>\n",
       "      <th>0</th>\n",
       "      <td>2021-06-20 00:00:00</td>\n",
       "      <td>118</td>\n",
       "    </tr>\n",
       "    <tr>\n",
       "      <th>1</th>\n",
       "      <td>2021-06-20 01:00:00</td>\n",
       "      <td>133</td>\n",
       "    </tr>\n",
       "    <tr>\n",
       "      <th>2</th>\n",
       "      <td>2021-06-20 02:00:00</td>\n",
       "      <td>121</td>\n",
       "    </tr>\n",
       "    <tr>\n",
       "      <th>3</th>\n",
       "      <td>2021-06-20 03:00:00</td>\n",
       "      <td>114</td>\n",
       "    </tr>\n",
       "    <tr>\n",
       "      <th>4</th>\n",
       "      <td>2021-06-20 04:00:00</td>\n",
       "      <td>90</td>\n",
       "    </tr>\n",
       "    <tr>\n",
       "      <th>...</th>\n",
       "      <td>...</td>\n",
       "      <td>...</td>\n",
       "    </tr>\n",
       "    <tr>\n",
       "      <th>728</th>\n",
       "      <td>2021-07-20 08:00:00</td>\n",
       "      <td>126</td>\n",
       "    </tr>\n",
       "    <tr>\n",
       "      <th>729</th>\n",
       "      <td>2021-07-20 09:00:00</td>\n",
       "      <td>140</td>\n",
       "    </tr>\n",
       "    <tr>\n",
       "      <th>730</th>\n",
       "      <td>2021-07-20 10:00:00</td>\n",
       "      <td>111</td>\n",
       "    </tr>\n",
       "    <tr>\n",
       "      <th>731</th>\n",
       "      <td>2021-07-20 11:00:00</td>\n",
       "      <td>125</td>\n",
       "    </tr>\n",
       "    <tr>\n",
       "      <th>732</th>\n",
       "      <td>2021-07-20 12:00:00</td>\n",
       "      <td>135</td>\n",
       "    </tr>\n",
       "  </tbody>\n",
       "</table>\n",
       "<p>733 rows × 2 columns</p>\n",
       "</div>"
      ],
      "text/plain": [
       "              dateadded  count\n",
       "0   2021-06-20 00:00:00    118\n",
       "1   2021-06-20 01:00:00    133\n",
       "2   2021-06-20 02:00:00    121\n",
       "3   2021-06-20 03:00:00    114\n",
       "4   2021-06-20 04:00:00     90\n",
       "..                  ...    ...\n",
       "728 2021-07-20 08:00:00    126\n",
       "729 2021-07-20 09:00:00    140\n",
       "730 2021-07-20 10:00:00    111\n",
       "731 2021-07-20 11:00:00    125\n",
       "732 2021-07-20 12:00:00    135\n",
       "\n",
       "[733 rows x 2 columns]"
      ]
     },
     "execution_count": 9,
     "metadata": {},
     "output_type": "execute_result"
    }
   ],
   "source": [
    "df_ts"
   ]
  },
  {
   "cell_type": "markdown",
   "id": "360ca87e-af21-4234-a793-61c90edc7aa4",
   "metadata": {},
   "source": [
    "# Clustering"
   ]
  },
  {
   "cell_type": "code",
   "execution_count": 61,
   "id": "98c1f45e-6a59-4ce3-b1bf-26b06b7a6248",
   "metadata": {},
   "outputs": [],
   "source": [
    "dataframe['date_round'] = pd.Series(np.array(dataframe.dateadded, dtype='datetime64[h]'))"
   ]
  },
  {
   "cell_type": "code",
   "execution_count": 62,
   "id": "4afc9c25-fd52-40f9-915b-71bbd5b08c22",
   "metadata": {},
   "outputs": [],
   "source": [
    "indexes_of_greatest_pics = df_ts['count'].sort_values()[-4:].index"
   ]
  },
  {
   "cell_type": "markdown",
   "id": "21bb2b14-b27e-4b2d-a630-ddc7bccdf30f",
   "metadata": {},
   "source": [
    "for index in indexes_of_greatest_pics:\n",
    "    timestamp = df_ts.iloc[index]['dateadded']\n",
    "    data = dataframe[dataframe['date_round'] == timestamp1]"
   ]
  },
  {
   "cell_type": "code",
   "execution_count": 63,
   "id": "16780499-307e-47ba-af21-821a51511d89",
   "metadata": {},
   "outputs": [],
   "source": [
    "index1 = df_ts[df_ts['count'] == df_ts['count'].max()]['dateadded'].index[0]\n",
    "timestamp1 = df_ts.iloc[index1]['dateadded']\n",
    "data_max = dataframe[dataframe['date_round'] == timestamp1]"
   ]
  },
  {
   "cell_type": "code",
   "execution_count": 64,
   "id": "895e0ed3-16d6-4983-9998-0f08ad10d5a0",
   "metadata": {},
   "outputs": [],
   "source": [
    "random_index = randint(1, 732)\n",
    "timestamp2 = df_ts.iloc[random_index]['dateadded']\n",
    "data_2 = dataframe[dataframe['date_round'] == timestamp2]"
   ]
  },
  {
   "cell_type": "code",
   "execution_count": 65,
   "id": "e3ca2723-047a-4728-91c2-795521ff78e1",
   "metadata": {},
   "outputs": [
    {
     "data": {
      "text/plain": [
       "(110, 9)"
      ]
     },
     "execution_count": 65,
     "metadata": {},
     "output_type": "execute_result"
    }
   ],
   "source": [
    "data_2.shape"
   ]
  },
  {
   "cell_type": "code",
   "execution_count": 66,
   "id": "0b39850b-802b-42e4-b53c-9ffd838fd4f9",
   "metadata": {},
   "outputs": [],
   "source": [
    "tab1 = data_max.url.to_numpy()"
   ]
  },
  {
   "cell_type": "code",
   "execution_count": 67,
   "id": "68ab7062-dea3-4743-8548-cefb21fec802",
   "metadata": {},
   "outputs": [],
   "source": [
    "from sklearn.cluster import dbscan\n",
    "\n",
    "def lev_metric(x, y):\n",
    "    i, j = int(x[0]), int(y[0])     # extract indices\n",
    "    return leven.distance(tab1[i], tab1[j])\n",
    "\n",
    "X = np.arange(len(tab1)).reshape(-1, 1)\n",
    "\n",
    "list_n_signaux = []\n",
    "for i in range(1,15,2):\n",
    "    tab_dbscan = dbscan(X, metric=lev_metric, eps=i, min_samples=2)[0]\n",
    "    df_unique_cluster = data_max[data_max.reset_index().index.isin(tab_dbscan)]\n",
    "    n_signaux = df_unique_cluster.shape[0]\n",
    "    list_n_signaux.append(n_signaux)"
   ]
  },
  {
   "cell_type": "code",
   "execution_count": 68,
   "id": "ef2f3ded-0e63-42c6-87b3-7efd3b9524d6",
   "metadata": {},
   "outputs": [
    {
     "data": {
      "text/plain": [
       "<AxesSubplot:>"
      ]
     },
     "execution_count": 68,
     "metadata": {},
     "output_type": "execute_result"
    },
    {
     "data": {
      "image/png": "[encoded data removed]",
      "text/plain": [
       "<Figure size 842.4x595.44 with 1 Axes>"
      ]
     },
     "metadata": {},
     "output_type": "display_data"
    }
   ],
   "source": [
    "a4_dims = (11.7, 8.27)\n",
    "fig, ax = pyplot.subplots(figsize=a4_dims)\n",
    "sns.lineplot(ax=ax, x=[i for i in range(1,15,2)], y=list_n_signaux)"
   ]
  },
  {
   "cell_type": "code",
   "execution_count": 69,
   "id": "a7efa8c2-8313-4d58-af92-2cc75e970e94",
   "metadata": {},
   "outputs": [],
   "source": [
    "#first_cluster = data_max[data_max.reset_index().index.isin(dbscan(X, metric=lev_metric, eps=8, min_samples=2)[0])]"
   ]
  },
  {
   "cell_type": "code",
   "execution_count": 70,
   "id": "312aedf6-41be-4629-accc-4c0ac6606a0c",
   "metadata": {},
   "outputs": [],
   "source": [
    "frames = [data_max,data_2]\n",
    "tab_deux_signaux_max = pd.concat(frames)"
   ]
  },
  {
   "cell_type": "code",
   "execution_count": 71,
   "id": "df70009f-b575-4bcd-9df8-d65dbaa0835b",
   "metadata": {},
   "outputs": [],
   "source": [
    "tab2 = tab_deux_signaux_max.url.to_numpy()"
   ]
  },
  {
   "cell_type": "code",
   "execution_count": 72,
   "id": "281f8462-65bd-4882-9e9b-383bbc4c5b39",
   "metadata": {},
   "outputs": [],
   "source": [
    "X = np.arange(len(tab2)).reshape(-1, 1)\n",
    "\n",
    "def lev_metric(x, y):\n",
    "    i, j = int(x[0]), int(y[0])     # extract indices\n",
    "    return leven.distance(tab2[i], tab2[j])\n",
    "\n",
    "tab_dbscan = dbscan(X, metric=lev_metric, eps=8, min_samples=2)[0]\n",
    "df_unique_cluster = tab_deux_signaux_max[tab_deux_signaux_max.reset_index().index.isin(tab_dbscan)]"
   ]
  },
  {
   "cell_type": "code",
   "execution_count": 73,
   "id": "c0a71d84-0164-4c48-a5a9-b75fa8749ed7",
   "metadata": {},
   "outputs": [
    {
     "data": {
      "text/plain": [
       "2021-07-10 22:00:00    987\n",
       "2021-06-28 22:00:00     80\n",
       "Name: date_round, dtype: int64"
      ]
     },
     "execution_count": 73,
     "metadata": {},
     "output_type": "execute_result"
    }
   ],
   "source": [
    "df_unique_cluster['date_round'].value_counts()"
   ]
  },
  {
   "cell_type": "markdown",
   "id": "2d84a6b2-4484-4dcb-a3d2-9bb61eceea62",
   "metadata": {},
   "source": [
    "# Decile"
   ]
  },
  {
   "cell_type": "code",
   "execution_count": 25,
   "id": "c15d8191-a428-4ddf-82db-0541511d891b",
   "metadata": {},
   "outputs": [],
   "source": [
    "pourcentage = 50"
   ]
  },
  {
   "cell_type": "code",
   "execution_count": 26,
   "id": "089985de-9251-45ed-adaf-ae074d5b8642",
   "metadata": {},
   "outputs": [],
   "source": [
    "number_values = df_ts.shape[0]"
   ]
  },
  {
   "cell_type": "code",
   "execution_count": 27,
   "id": "71583681-a961-49fe-9784-e68d7bb9a1cc",
   "metadata": {},
   "outputs": [],
   "source": [
    "df_ts_sorted = df_ts.sort_values(by = ['count'])"
   ]
  },
  {
   "cell_type": "code",
   "execution_count": 28,
   "id": "27f30eec-97b9-480c-a7c4-28a5959647e8",
   "metadata": {},
   "outputs": [],
   "source": [
    "too_low_values = df_ts_sorted[:number_values//pourcentage]\n",
    "too_high_values = df_ts_sorted[-number_values//pourcentage:]"
   ]
  },
  {
   "cell_type": "code",
   "execution_count": 29,
   "id": "a8ad6bd3-40c3-4f06-a402-642928fd9a2f",
   "metadata": {},
   "outputs": [],
   "source": [
    "too_low_values_threshold = df_ts_sorted[:number_values//pourcentage]['count'].iloc[-1]\n",
    "too_high_values_threshold = df_ts_sorted[-number_values//pourcentage:]['count'].iloc[0]"
   ]
  },
  {
   "cell_type": "code",
   "execution_count": 30,
   "id": "b6a20eca-2445-429d-821d-a636669d6cac",
   "metadata": {},
   "outputs": [],
   "source": [
    "avg = df_ts_sorted['count'].mean()"
   ]
  },
  {
   "cell_type": "code",
   "execution_count": 31,
   "id": "ab13790d-cc3b-485d-b35a-50700655f8e3",
   "metadata": {},
   "outputs": [],
   "source": [
    "def custom_status(count):\n",
    "    if count > avg:\n",
    "        return 1\n",
    "    else:\n",
    "        return 0"
   ]
  },
  {
   "cell_type": "code",
   "execution_count": 32,
   "id": "62dd181b-af6a-4669-aa74-e85715b8ecb3",
   "metadata": {},
   "outputs": [],
   "source": [
    "frames = [too_low_values, too_high_values]\n",
    "alert_values = pd.concat(frames)\n",
    "alert_values['status'] = alert_values.apply(lambda x: custom_status(x['count']) ,axis=1)"
   ]
  },
  {
   "cell_type": "code",
   "execution_count": 33,
   "id": "abc4293d-5856-41c3-8bd4-c08fe1a4cea4",
   "metadata": {},
   "outputs": [],
   "source": [
    "df_ts['max_threshold'] = df_ts.apply(lambda x: too_high_values_threshold,axis=1)\n",
    "df_ts['min_threshold'] = df_ts.apply(lambda x: too_low_values_threshold,axis=1)"
   ]
  },
  {
   "cell_type": "code",
   "execution_count": 34,
   "id": "6e0fa9a7-286d-4f14-81a6-f7e9fc0336f2",
   "metadata": {},
   "outputs": [
    {
     "data": {
      "text/plain": [
       "<AxesSubplot:xlabel='dateadded', ylabel='count'>"
      ]
     },
     "execution_count": 34,
     "metadata": {},
     "output_type": "execute_result"
    },
    {
     "data": {
      "image/png": "[encoded data removed]",
      "text/plain": [
       "<Figure size 1440x1008 with 1 Axes>"
      ]
     },
     "metadata": {
      "needs_background": "light"
     },
     "output_type": "display_data"
    }
   ],
   "source": [
    "dims = (20, 14)\n",
    "fig, ax = pyplot.subplots(figsize=dims)\n",
    "sns.scatterplot(ax=ax, data=alert_values, x=\"dateadded\", y=\"count\", hue='status', palette=\"deep\")\n",
    "sns.lineplot(ax=ax, data=df_ts, x=\"dateadded\", y=\"count\")\n",
    "sns.lineplot(ax=ax, data=df_ts, x=\"dateadded\", y=\"max_threshold\")\n",
    "sns.lineplot(ax=ax, data=df_ts, x=\"dateadded\", y=\"min_threshold\")"
   ]
  },
  {
   "cell_type": "code",
   "execution_count": 35,
   "id": "fb09147a-7a4b-46a6-afbe-fe978b434cb4",
   "metadata": {},
   "outputs": [
    {
     "data": {
      "text/plain": [
       "29"
      ]
     },
     "execution_count": 35,
     "metadata": {},
     "output_type": "execute_result"
    }
   ],
   "source": [
    "num_alertes = too_high_values.shape[0] + too_low_values.shape[0]\n",
    "num_alertes"
   ]
  },
  {
   "cell_type": "code",
   "execution_count": null,
   "id": "2c58a9be-514e-4023-8669-ae3bd9574f82",
   "metadata": {},
   "outputs": [],
   "source": []
  },
  {
   "cell_type": "code",
   "execution_count": null,
   "id": "203e0812-c355-4048-8a0a-6bb42205bd84",
   "metadata": {},
   "outputs": [],
   "source": []
  },
  {
   "cell_type": "code",
   "execution_count": 36,
   "id": "59a3cbcb-03b5-4bd3-8764-5860567d694c",
   "metadata": {},
   "outputs": [
    {
     "data": {
      "text/plain": [
       "lrz_urlhaus      60974\n",
       "geenensp         11355\n",
       "Gandylyan1        3488\n",
       "Petras_Simeon     2317\n",
       "tolisec           2064\n",
       "Cryptolaemus1     1682\n",
       "tammeto           1487\n",
       "switchcert        1201\n",
       "zbetcheckin       1129\n",
       "abuse_ch           665\n",
       "Name: reporter, dtype: int64"
      ]
     },
     "execution_count": 36,
     "metadata": {},
     "output_type": "execute_result"
    }
   ],
   "source": [
    "occ_reporter = dataframe['reporter'].value_counts()\n",
    "dataframe_reporter = pd.DataFrame(occ_reporter[:10]).reset_index()\n",
    "occ_reporter[:10]"
   ]
  },
  {
   "cell_type": "code",
   "execution_count": 37,
   "id": "6ff5b59f-8069-4aad-b9e2-85459e41d1b3",
   "metadata": {},
   "outputs": [
    {
     "data": {
      "text/plain": [
       "<seaborn.axisgrid.FacetGrid at 0x7f2bc0dce3c8>"
      ]
     },
     "execution_count": 37,
     "metadata": {},
     "output_type": "execute_result"
    },
    {
     "data": {
      "image/png": "[encoded data removed]",
      "text/plain": [
       "<Figure size 720x720 with 1 Axes>"
      ]
     },
     "metadata": {},
     "output_type": "display_data"
    }
   ],
   "source": [
    "sns.set_theme(style=\"whitegrid\")\n",
    "\n",
    "g = sns.catplot(\n",
    "    data=dataframe_reporter,x =\"index\",y=\"reporter\", kind=\"bar\",ci=\"sd\", palette=\"dark\", alpha=.6, height=10\n",
    ")\n",
    "\n",
    "g.despine(left=True)\n",
    "g.set_axis_labels(\"reporter\", \"\")"
   ]
  },
  {
   "cell_type": "code",
   "execution_count": null,
   "id": "9b3681d6-dbe1-443b-94e1-1bf4a435f60f",
   "metadata": {},
   "outputs": [],
   "source": []
  }
 ],
 "metadata": {
  "kernelspec": {
   "display_name": "Python 3 (ipykernel)",
   "language": "python",
   "name": "python3"
  },
  "language_info": {
   "codemirror_mode": {
    "name": "ipython",
    "version": 3
   },
   "file_extension": ".py",
   "mimetype": "text/x-python",
   "name": "python",
   "nbconvert_exporter": "python",
   "pygments_lexer": "ipython3",
   "version": "3.7.3"
  },
  "toc-showcode": false
 },
 "nbformat": 4,
 "nbformat_minor": 5
}
