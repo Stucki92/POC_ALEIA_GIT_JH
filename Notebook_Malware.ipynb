{
 "cells": [
  {
   "cell_type": "code",
   "execution_count": 1,
   "id": "8347a82f-5a1f-4ae5-be98-bff07418d229",
   "metadata": {},
   "outputs": [],
   "source": [
    "import pandas as pd\n",
    "import numpy as np\n",
    "import seaborn as sns"
   ]
  },
  {
   "cell_type": "code",
   "execution_count": 2,
   "id": "1aa0e276-73bf-4d23-87ba-67e8ea5bfc54",
   "metadata": {},
   "outputs": [],
   "source": [
    "dataframe = pd.read_csv('../BD/Log.csv', header = 8)"
   ]
  },
  {
   "cell_type": "code",
   "execution_count": 3,
   "id": "70951309-d0f4-444e-a140-d1643fc2de5a",
   "metadata": {},
   "outputs": [
    {
     "data": {
      "text/html": [
       "<div>\n",
       "<style scoped>\n",
       "    .dataframe tbody tr th:only-of-type {\n",
       "        vertical-align: middle;\n",
       "    }\n",
       "\n",
       "    .dataframe tbody tr th {\n",
       "        vertical-align: top;\n",
       "    }\n",
       "\n",
       "    .dataframe thead th {\n",
       "        text-align: right;\n",
       "    }\n",
       "</style>\n",
       "<table border=\"1\" class=\"dataframe\">\n",
       "  <thead>\n",
       "    <tr style=\"text-align: right;\">\n",
       "      <th></th>\n",
       "      <th># id</th>\n",
       "      <th>dateadded</th>\n",
       "      <th>url</th>\n",
       "      <th>url_status</th>\n",
       "      <th>threat</th>\n",
       "      <th>tags</th>\n",
       "      <th>urlhaus_link</th>\n",
       "      <th>reporter</th>\n",
       "    </tr>\n",
       "  </thead>\n",
       "  <tbody>\n",
       "    <tr>\n",
       "      <th>0</th>\n",
       "      <td>1468582</td>\n",
       "      <td>2021-07-20 12:55:03</td>\n",
       "      <td>http://makeownpharma.com/prof--ruthe-cremin/Li...</td>\n",
       "      <td>offline</td>\n",
       "      <td>malware_download</td>\n",
       "      <td>html,Qakbot,qbot,SilentBuilder,TR,zip</td>\n",
       "      <td>https://urlhaus.abuse.ch/url/1468582/</td>\n",
       "      <td>Cryptolaemus1</td>\n",
       "    </tr>\n",
       "    <tr>\n",
       "      <th>1</th>\n",
       "      <td>1468583</td>\n",
       "      <td>2021-07-20 12:55:03</td>\n",
       "      <td>http://bellatti-barton.com/dr--amy-kuphal/Oliv...</td>\n",
       "      <td>offline</td>\n",
       "      <td>malware_download</td>\n",
       "      <td>html,Qakbot,qbot,SilentBuilder,TR,zip</td>\n",
       "      <td>https://urlhaus.abuse.ch/url/1468583/</td>\n",
       "      <td>Cryptolaemus1</td>\n",
       "    </tr>\n",
       "    <tr>\n",
       "      <th>2</th>\n",
       "      <td>1468581</td>\n",
       "      <td>2021-07-20 12:53:06</td>\n",
       "      <td>http://54.94.157.240/petart/avaron.exe</td>\n",
       "      <td>online</td>\n",
       "      <td>malware_download</td>\n",
       "      <td>exe,Loki,opendir</td>\n",
       "      <td>https://urlhaus.abuse.ch/url/1468581/</td>\n",
       "      <td>abuse_ch</td>\n",
       "    </tr>\n",
       "    <tr>\n",
       "      <th>3</th>\n",
       "      <td>1468580</td>\n",
       "      <td>2021-07-20 12:53:04</td>\n",
       "      <td>http://198.12.81.125/ugc/vbc.exe</td>\n",
       "      <td>online</td>\n",
       "      <td>malware_download</td>\n",
       "      <td>AgentTesla,exe</td>\n",
       "      <td>https://urlhaus.abuse.ch/url/1468580/</td>\n",
       "      <td>abuse_ch</td>\n",
       "    </tr>\n",
       "    <tr>\n",
       "      <th>4</th>\n",
       "      <td>1468578</td>\n",
       "      <td>2021-07-20 12:52:12</td>\n",
       "      <td>http://59.96.31.207:34561/Mozi.m</td>\n",
       "      <td>online</td>\n",
       "      <td>malware_download</td>\n",
       "      <td>elf,Mozi</td>\n",
       "      <td>https://urlhaus.abuse.ch/url/1468578/</td>\n",
       "      <td>lrz_urlhaus</td>\n",
       "    </tr>\n",
       "  </tbody>\n",
       "</table>\n",
       "</div>"
      ],
      "text/plain": [
       "      # id            dateadded  \\\n",
       "0  1468582  2021-07-20 12:55:03   \n",
       "1  1468583  2021-07-20 12:55:03   \n",
       "2  1468581  2021-07-20 12:53:06   \n",
       "3  1468580  2021-07-20 12:53:04   \n",
       "4  1468578  2021-07-20 12:52:12   \n",
       "\n",
       "                                                 url url_status  \\\n",
       "0  http://makeownpharma.com/prof--ruthe-cremin/Li...    offline   \n",
       "1  http://bellatti-barton.com/dr--amy-kuphal/Oliv...    offline   \n",
       "2             http://54.94.157.240/petart/avaron.exe     online   \n",
       "3                   http://198.12.81.125/ugc/vbc.exe     online   \n",
       "4                   http://59.96.31.207:34561/Mozi.m     online   \n",
       "\n",
       "             threat                                   tags  \\\n",
       "0  malware_download  html,Qakbot,qbot,SilentBuilder,TR,zip   \n",
       "1  malware_download  html,Qakbot,qbot,SilentBuilder,TR,zip   \n",
       "2  malware_download                       exe,Loki,opendir   \n",
       "3  malware_download                         AgentTesla,exe   \n",
       "4  malware_download                               elf,Mozi   \n",
       "\n",
       "                            urlhaus_link       reporter  \n",
       "0  https://urlhaus.abuse.ch/url/1468582/  Cryptolaemus1  \n",
       "1  https://urlhaus.abuse.ch/url/1468583/  Cryptolaemus1  \n",
       "2  https://urlhaus.abuse.ch/url/1468581/       abuse_ch  \n",
       "3  https://urlhaus.abuse.ch/url/1468580/       abuse_ch  \n",
       "4  https://urlhaus.abuse.ch/url/1468578/    lrz_urlhaus  "
      ]
     },
     "execution_count": 3,
     "metadata": {},
     "output_type": "execute_result"
    }
   ],
   "source": [
    "dataframe.head()"
   ]
  },
  {
   "cell_type": "code",
   "execution_count": 4,
   "id": "8d86bdd5-7263-4599-ba64-06e8104d713b",
   "metadata": {},
   "outputs": [
    {
     "name": "stdout",
     "output_type": "stream",
     "text": [
      "<class 'pandas.core.frame.DataFrame'>\n",
      "RangeIndex: 87498 entries, 0 to 87497\n",
      "Data columns (total 8 columns):\n",
      " #   Column        Non-Null Count  Dtype \n",
      "---  ------        --------------  ----- \n",
      " 0   # id          87498 non-null  int64 \n",
      " 1   dateadded     87498 non-null  object\n",
      " 2   url           87498 non-null  object\n",
      " 3   url_status    87498 non-null  object\n",
      " 4   threat        87498 non-null  object\n",
      " 5   tags          87498 non-null  object\n",
      " 6   urlhaus_link  87498 non-null  object\n",
      " 7   reporter      87498 non-null  object\n",
      "dtypes: int64(1), object(7)\n",
      "memory usage: 5.3+ MB\n"
     ]
    }
   ],
   "source": [
    "dataframe.info()"
   ]
  },
  {
   "cell_type": "code",
   "execution_count": 5,
   "id": "4372e906-359a-4f40-b497-609263d3c763",
   "metadata": {},
   "outputs": [],
   "source": [
    "dataframe['dateadded'] = pd.to_datetime(dataframe['dateadded'])"
   ]
  },
  {
   "cell_type": "code",
   "execution_count": 6,
   "id": "b3af1034-b4a6-486a-8a5a-9e6c64be46b2",
   "metadata": {},
   "outputs": [
    {
     "data": {
      "text/plain": [
       "<AxesSubplot:xlabel='dateadded', ylabel='count'>"
      ]
     },
     "execution_count": 6,
     "metadata": {},
     "output_type": "execute_result"
    },
    {
     "data": {
      "image/png": "[encoded data removed]",
      "text/plain": [
       "<Figure size 432x288 with 1 Axes>"
      ]
     },
     "metadata": {
      "needs_background": "light"
     },
     "output_type": "display_data"
    }
   ],
   "source": [
    "df_ts = dataframe.groupby([pd.Grouper(key='dateadded',freq='H')]).size().reset_index(name='count')\n",
    "sns.lineplot(data=df_ts, x=\"dateadded\", y=\"count\")"
   ]
  },
  {
   "cell_type": "code",
   "execution_count": 7,
   "id": "16780499-307e-47ba-af21-821a51511d89",
   "metadata": {},
   "outputs": [
    {
     "data": {
      "text/html": [
       "<div>\n",
       "<style scoped>\n",
       "    .dataframe tbody tr th:only-of-type {\n",
       "        vertical-align: middle;\n",
       "    }\n",
       "\n",
       "    .dataframe tbody tr th {\n",
       "        vertical-align: top;\n",
       "    }\n",
       "\n",
       "    .dataframe thead th {\n",
       "        text-align: right;\n",
       "    }\n",
       "</style>\n",
       "<table border=\"1\" class=\"dataframe\">\n",
       "  <thead>\n",
       "    <tr style=\"text-align: right;\">\n",
       "      <th></th>\n",
       "      <th>dateadded</th>\n",
       "      <th>count</th>\n",
       "    </tr>\n",
       "  </thead>\n",
       "  <tbody>\n",
       "    <tr>\n",
       "      <th>502</th>\n",
       "      <td>2021-07-10 22:00:00</td>\n",
       "      <td>1145</td>\n",
       "    </tr>\n",
       "  </tbody>\n",
       "</table>\n",
       "</div>"
      ],
      "text/plain": [
       "              dateadded  count\n",
       "502 2021-07-10 22:00:00   1145"
      ]
     },
     "execution_count": 7,
     "metadata": {},
     "output_type": "execute_result"
    }
   ],
   "source": [
    "df_ts[df_ts['count'] == df_ts['count'].max()]"
   ]
  },
  {
   "cell_type": "code",
   "execution_count": null,
   "id": "6ff5b59f-8069-4aad-b9e2-85459e41d1b3",
   "metadata": {},
   "outputs": [],
   "source": []
  }
 ],
 "metadata": {
  "kernelspec": {
   "display_name": "Python 3 (ipykernel)",
   "language": "python",
   "name": "python3"
  },
  "language_info": {
   "codemirror_mode": {
    "name": "ipython",
    "version": 3
   },
   "file_extension": ".py",
   "mimetype": "text/x-python",
   "name": "python",
   "nbconvert_exporter": "python",
   "pygments_lexer": "ipython3",
   "version": "3.7.3"
  }
 },
 "nbformat": 4,
 "nbformat_minor": 5
}
